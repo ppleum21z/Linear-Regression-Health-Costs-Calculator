{
  "cells": [
    {
      "cell_type": "markdown",
      "metadata": {
        "id": "view-in-github",
        "colab_type": "text"
      },
      "source": [
        "<a href=\"https://colab.research.google.com/github/ppleum21z/Linear-Regression-Health-Costs-Calculator/blob/main/Copy_of_fcc_predict_health_costs_with_regression.ipynb\" target=\"_parent\"><img src=\"https://colab.research.google.com/assets/colab-badge.svg\" alt=\"Open In Colab\"/></a>"
      ]
    },
    {
      "cell_type": "code",
      "execution_count": null,
      "metadata": {
        "id": "1rRo8oNqZ-Rj",
        "colab": {
          "base_uri": "https://localhost:8080/"
        },
        "outputId": "5f65928e-a0ff-4833-d302-c7d073d530cc"
      },
      "outputs": [
        {
          "output_type": "stream",
          "name": "stdout",
          "text": [
            "  Preparing metadata (setup.py) ... \u001b[?25l\u001b[?25hdone\n",
            "  Building wheel for tensorflow-docs (setup.py) ... \u001b[?25l\u001b[?25hdone\n",
            "Colab only includes TensorFlow 2.x; %tensorflow_version has no effect.\n"
          ]
        }
      ],
      "source": [
        "# Import libraries. You may or may not use all of these.\n",
        "!pip install -q git+https://github.com/tensorflow/docs\n",
        "import matplotlib.pyplot as plt\n",
        "import numpy as np\n",
        "import pandas as pd\n",
        "\n",
        "try:\n",
        "  # %tensorflow_version only exists in Colab.\n",
        "  %tensorflow_version 2.x\n",
        "except Exception:\n",
        "  pass\n",
        "import tensorflow as tf\n",
        "\n",
        "from tensorflow import keras\n",
        "from tensorflow.keras import layers\n",
        "\n",
        "import tensorflow_docs as tfdocs\n",
        "import tensorflow_docs.plots\n",
        "import tensorflow_docs.modeling"
      ]
    },
    {
      "cell_type": "code",
      "execution_count": null,
      "metadata": {
        "id": "CiX2FI4gZtTt",
        "colab": {
          "base_uri": "https://localhost:8080/",
          "height": 397
        },
        "outputId": "25aba899-bb3c-4879-d1fe-399434e32212"
      },
      "outputs": [
        {
          "output_type": "stream",
          "name": "stdout",
          "text": [
            "--2023-09-13 16:50:37--  https://cdn.freecodecamp.org/project-data/health-costs/insurance.csv\n",
            "Resolving cdn.freecodecamp.org (cdn.freecodecamp.org)... 104.26.3.33, 172.67.70.149, 104.26.2.33, ...\n",
            "Connecting to cdn.freecodecamp.org (cdn.freecodecamp.org)|104.26.3.33|:443... connected.\n",
            "HTTP request sent, awaiting response... 200 OK\n",
            "Length: 50264 (49K) [text/csv]\n",
            "Saving to: ‘insurance.csv’\n",
            "\n",
            "\rinsurance.csv         0%[                    ]       0  --.-KB/s               \rinsurance.csv       100%[===================>]  49.09K  --.-KB/s    in 0s      \n",
            "\n",
            "2023-09-13 16:50:37 (102 MB/s) - ‘insurance.csv’ saved [50264/50264]\n",
            "\n"
          ]
        },
        {
          "output_type": "execute_result",
          "data": {
            "text/plain": [
              "      age     sex   bmi  children smoker     region  expenses\n",
              "1333   50    male  31.0         3     no  northwest  10600.55\n",
              "1334   18  female  31.9         0     no  northeast   2205.98\n",
              "1335   18  female  36.9         0     no  southeast   1629.83\n",
              "1336   21  female  25.8         0     no  southwest   2007.95\n",
              "1337   61  female  29.1         0    yes  northwest  29141.36"
            ],
            "text/html": [
              "\n",
              "  <div id=\"df-b4127d60-dfae-4457-a05c-e3301836631b\" class=\"colab-df-container\">\n",
              "    <div>\n",
              "<style scoped>\n",
              "    .dataframe tbody tr th:only-of-type {\n",
              "        vertical-align: middle;\n",
              "    }\n",
              "\n",
              "    .dataframe tbody tr th {\n",
              "        vertical-align: top;\n",
              "    }\n",
              "\n",
              "    .dataframe thead th {\n",
              "        text-align: right;\n",
              "    }\n",
              "</style>\n",
              "<table border=\"1\" class=\"dataframe\">\n",
              "  <thead>\n",
              "    <tr style=\"text-align: right;\">\n",
              "      <th></th>\n",
              "      <th>age</th>\n",
              "      <th>sex</th>\n",
              "      <th>bmi</th>\n",
              "      <th>children</th>\n",
              "      <th>smoker</th>\n",
              "      <th>region</th>\n",
              "      <th>expenses</th>\n",
              "    </tr>\n",
              "  </thead>\n",
              "  <tbody>\n",
              "    <tr>\n",
              "      <th>1333</th>\n",
              "      <td>50</td>\n",
              "      <td>male</td>\n",
              "      <td>31.0</td>\n",
              "      <td>3</td>\n",
              "      <td>no</td>\n",
              "      <td>northwest</td>\n",
              "      <td>10600.55</td>\n",
              "    </tr>\n",
              "    <tr>\n",
              "      <th>1334</th>\n",
              "      <td>18</td>\n",
              "      <td>female</td>\n",
              "      <td>31.9</td>\n",
              "      <td>0</td>\n",
              "      <td>no</td>\n",
              "      <td>northeast</td>\n",
              "      <td>2205.98</td>\n",
              "    </tr>\n",
              "    <tr>\n",
              "      <th>1335</th>\n",
              "      <td>18</td>\n",
              "      <td>female</td>\n",
              "      <td>36.9</td>\n",
              "      <td>0</td>\n",
              "      <td>no</td>\n",
              "      <td>southeast</td>\n",
              "      <td>1629.83</td>\n",
              "    </tr>\n",
              "    <tr>\n",
              "      <th>1336</th>\n",
              "      <td>21</td>\n",
              "      <td>female</td>\n",
              "      <td>25.8</td>\n",
              "      <td>0</td>\n",
              "      <td>no</td>\n",
              "      <td>southwest</td>\n",
              "      <td>2007.95</td>\n",
              "    </tr>\n",
              "    <tr>\n",
              "      <th>1337</th>\n",
              "      <td>61</td>\n",
              "      <td>female</td>\n",
              "      <td>29.1</td>\n",
              "      <td>0</td>\n",
              "      <td>yes</td>\n",
              "      <td>northwest</td>\n",
              "      <td>29141.36</td>\n",
              "    </tr>\n",
              "  </tbody>\n",
              "</table>\n",
              "</div>\n",
              "    <div class=\"colab-df-buttons\">\n",
              "\n",
              "  <div class=\"colab-df-container\">\n",
              "    <button class=\"colab-df-convert\" onclick=\"convertToInteractive('df-b4127d60-dfae-4457-a05c-e3301836631b')\"\n",
              "            title=\"Convert this dataframe to an interactive table.\"\n",
              "            style=\"display:none;\">\n",
              "\n",
              "  <svg xmlns=\"http://www.w3.org/2000/svg\" height=\"24px\" viewBox=\"0 -960 960 960\">\n",
              "    <path d=\"M120-120v-720h720v720H120Zm60-500h600v-160H180v160Zm220 220h160v-160H400v160Zm0 220h160v-160H400v160ZM180-400h160v-160H180v160Zm440 0h160v-160H620v160ZM180-180h160v-160H180v160Zm440 0h160v-160H620v160Z\"/>\n",
              "  </svg>\n",
              "    </button>\n",
              "\n",
              "  <style>\n",
              "    .colab-df-container {\n",
              "      display:flex;\n",
              "      gap: 12px;\n",
              "    }\n",
              "\n",
              "    .colab-df-convert {\n",
              "      background-color: #E8F0FE;\n",
              "      border: none;\n",
              "      border-radius: 50%;\n",
              "      cursor: pointer;\n",
              "      display: none;\n",
              "      fill: #1967D2;\n",
              "      height: 32px;\n",
              "      padding: 0 0 0 0;\n",
              "      width: 32px;\n",
              "    }\n",
              "\n",
              "    .colab-df-convert:hover {\n",
              "      background-color: #E2EBFA;\n",
              "      box-shadow: 0px 1px 2px rgba(60, 64, 67, 0.3), 0px 1px 3px 1px rgba(60, 64, 67, 0.15);\n",
              "      fill: #174EA6;\n",
              "    }\n",
              "\n",
              "    .colab-df-buttons div {\n",
              "      margin-bottom: 4px;\n",
              "    }\n",
              "\n",
              "    [theme=dark] .colab-df-convert {\n",
              "      background-color: #3B4455;\n",
              "      fill: #D2E3FC;\n",
              "    }\n",
              "\n",
              "    [theme=dark] .colab-df-convert:hover {\n",
              "      background-color: #434B5C;\n",
              "      box-shadow: 0px 1px 3px 1px rgba(0, 0, 0, 0.15);\n",
              "      filter: drop-shadow(0px 1px 2px rgba(0, 0, 0, 0.3));\n",
              "      fill: #FFFFFF;\n",
              "    }\n",
              "  </style>\n",
              "\n",
              "    <script>\n",
              "      const buttonEl =\n",
              "        document.querySelector('#df-b4127d60-dfae-4457-a05c-e3301836631b button.colab-df-convert');\n",
              "      buttonEl.style.display =\n",
              "        google.colab.kernel.accessAllowed ? 'block' : 'none';\n",
              "\n",
              "      async function convertToInteractive(key) {\n",
              "        const element = document.querySelector('#df-b4127d60-dfae-4457-a05c-e3301836631b');\n",
              "        const dataTable =\n",
              "          await google.colab.kernel.invokeFunction('convertToInteractive',\n",
              "                                                    [key], {});\n",
              "        if (!dataTable) return;\n",
              "\n",
              "        const docLinkHtml = 'Like what you see? Visit the ' +\n",
              "          '<a target=\"_blank\" href=https://colab.research.google.com/notebooks/data_table.ipynb>data table notebook</a>'\n",
              "          + ' to learn more about interactive tables.';\n",
              "        element.innerHTML = '';\n",
              "        dataTable['output_type'] = 'display_data';\n",
              "        await google.colab.output.renderOutput(dataTable, element);\n",
              "        const docLink = document.createElement('div');\n",
              "        docLink.innerHTML = docLinkHtml;\n",
              "        element.appendChild(docLink);\n",
              "      }\n",
              "    </script>\n",
              "  </div>\n",
              "\n",
              "\n",
              "<div id=\"df-454edbf9-0308-4981-bb97-15a865a5bc28\">\n",
              "  <button class=\"colab-df-quickchart\" onclick=\"quickchart('df-454edbf9-0308-4981-bb97-15a865a5bc28')\"\n",
              "            title=\"Suggest charts.\"\n",
              "            style=\"display:none;\">\n",
              "\n",
              "<svg xmlns=\"http://www.w3.org/2000/svg\" height=\"24px\"viewBox=\"0 0 24 24\"\n",
              "     width=\"24px\">\n",
              "    <g>\n",
              "        <path d=\"M19 3H5c-1.1 0-2 .9-2 2v14c0 1.1.9 2 2 2h14c1.1 0 2-.9 2-2V5c0-1.1-.9-2-2-2zM9 17H7v-7h2v7zm4 0h-2V7h2v10zm4 0h-2v-4h2v4z\"/>\n",
              "    </g>\n",
              "</svg>\n",
              "  </button>\n",
              "\n",
              "<style>\n",
              "  .colab-df-quickchart {\n",
              "      --bg-color: #E8F0FE;\n",
              "      --fill-color: #1967D2;\n",
              "      --hover-bg-color: #E2EBFA;\n",
              "      --hover-fill-color: #174EA6;\n",
              "      --disabled-fill-color: #AAA;\n",
              "      --disabled-bg-color: #DDD;\n",
              "  }\n",
              "\n",
              "  [theme=dark] .colab-df-quickchart {\n",
              "      --bg-color: #3B4455;\n",
              "      --fill-color: #D2E3FC;\n",
              "      --hover-bg-color: #434B5C;\n",
              "      --hover-fill-color: #FFFFFF;\n",
              "      --disabled-bg-color: #3B4455;\n",
              "      --disabled-fill-color: #666;\n",
              "  }\n",
              "\n",
              "  .colab-df-quickchart {\n",
              "    background-color: var(--bg-color);\n",
              "    border: none;\n",
              "    border-radius: 50%;\n",
              "    cursor: pointer;\n",
              "    display: none;\n",
              "    fill: var(--fill-color);\n",
              "    height: 32px;\n",
              "    padding: 0;\n",
              "    width: 32px;\n",
              "  }\n",
              "\n",
              "  .colab-df-quickchart:hover {\n",
              "    background-color: var(--hover-bg-color);\n",
              "    box-shadow: 0 1px 2px rgba(60, 64, 67, 0.3), 0 1px 3px 1px rgba(60, 64, 67, 0.15);\n",
              "    fill: var(--button-hover-fill-color);\n",
              "  }\n",
              "\n",
              "  .colab-df-quickchart-complete:disabled,\n",
              "  .colab-df-quickchart-complete:disabled:hover {\n",
              "    background-color: var(--disabled-bg-color);\n",
              "    fill: var(--disabled-fill-color);\n",
              "    box-shadow: none;\n",
              "  }\n",
              "\n",
              "  .colab-df-spinner {\n",
              "    border: 2px solid var(--fill-color);\n",
              "    border-color: transparent;\n",
              "    border-bottom-color: var(--fill-color);\n",
              "    animation:\n",
              "      spin 1s steps(1) infinite;\n",
              "  }\n",
              "\n",
              "  @keyframes spin {\n",
              "    0% {\n",
              "      border-color: transparent;\n",
              "      border-bottom-color: var(--fill-color);\n",
              "      border-left-color: var(--fill-color);\n",
              "    }\n",
              "    20% {\n",
              "      border-color: transparent;\n",
              "      border-left-color: var(--fill-color);\n",
              "      border-top-color: var(--fill-color);\n",
              "    }\n",
              "    30% {\n",
              "      border-color: transparent;\n",
              "      border-left-color: var(--fill-color);\n",
              "      border-top-color: var(--fill-color);\n",
              "      border-right-color: var(--fill-color);\n",
              "    }\n",
              "    40% {\n",
              "      border-color: transparent;\n",
              "      border-right-color: var(--fill-color);\n",
              "      border-top-color: var(--fill-color);\n",
              "    }\n",
              "    60% {\n",
              "      border-color: transparent;\n",
              "      border-right-color: var(--fill-color);\n",
              "    }\n",
              "    80% {\n",
              "      border-color: transparent;\n",
              "      border-right-color: var(--fill-color);\n",
              "      border-bottom-color: var(--fill-color);\n",
              "    }\n",
              "    90% {\n",
              "      border-color: transparent;\n",
              "      border-bottom-color: var(--fill-color);\n",
              "    }\n",
              "  }\n",
              "</style>\n",
              "\n",
              "  <script>\n",
              "    async function quickchart(key) {\n",
              "      const quickchartButtonEl =\n",
              "        document.querySelector('#' + key + ' button');\n",
              "      quickchartButtonEl.disabled = true;  // To prevent multiple clicks.\n",
              "      quickchartButtonEl.classList.add('colab-df-spinner');\n",
              "      try {\n",
              "        const charts = await google.colab.kernel.invokeFunction(\n",
              "            'suggestCharts', [key], {});\n",
              "      } catch (error) {\n",
              "        console.error('Error during call to suggestCharts:', error);\n",
              "      }\n",
              "      quickchartButtonEl.classList.remove('colab-df-spinner');\n",
              "      quickchartButtonEl.classList.add('colab-df-quickchart-complete');\n",
              "    }\n",
              "    (() => {\n",
              "      let quickchartButtonEl =\n",
              "        document.querySelector('#df-454edbf9-0308-4981-bb97-15a865a5bc28 button');\n",
              "      quickchartButtonEl.style.display =\n",
              "        google.colab.kernel.accessAllowed ? 'block' : 'none';\n",
              "    })();\n",
              "  </script>\n",
              "</div>\n",
              "    </div>\n",
              "  </div>\n"
            ]
          },
          "metadata": {},
          "execution_count": 2
        }
      ],
      "source": [
        "# Import data\n",
        "!wget https://cdn.freecodecamp.org/project-data/health-costs/insurance.csv\n",
        "dataset = pd.read_csv('insurance.csv')\n",
        "dataset.tail()"
      ]
    },
    {
      "cell_type": "code",
      "source": [
        "dataset.age.hist(bins=20)\n"
      ],
      "metadata": {
        "id": "GqMdnhFYSa2Z",
        "colab": {
          "base_uri": "https://localhost:8080/",
          "height": 447
        },
        "outputId": "cefd7519-d0be-4c8f-8291-c91e4468aa05"
      },
      "execution_count": null,
      "outputs": [
        {
          "output_type": "execute_result",
          "data": {
            "text/plain": [
              "<Axes: >"
            ]
          },
          "metadata": {},
          "execution_count": 3
        },
        {
          "output_type": "display_data",
          "data": {
            "text/plain": [
              "<Figure size 640x480 with 1 Axes>"
            ],
            "image/png": "[encoded data removed]"
          },
          "metadata": {}
        }
      ]
    },
    {
      "cell_type": "code",
      "source": [
        "dataset.bmi.hist(bins=10)"
      ],
      "metadata": {
        "id": "fy5EGpDTWhbs",
        "colab": {
          "base_uri": "https://localhost:8080/",
          "height": 447
        },
        "outputId": "e3a390e3-883f-453f-9598-c02c6a97b6e5"
      },
      "execution_count": null,
      "outputs": [
        {
          "output_type": "execute_result",
          "data": {
            "text/plain": [
              "<Axes: >"
            ]
          },
          "metadata": {},
          "execution_count": 4
        },
        {
          "output_type": "display_data",
          "data": {
            "text/plain": [
              "<Figure size 640x480 with 1 Axes>"
            ],
            "image/png": "[encoded data removed]"
          },
          "metadata": {}
        }
      ]
    },
    {
      "cell_type": "code",
      "source": [
        "dataset.sex.value_counts().plot(kind='barh')"
      ],
      "metadata": {
        "id": "Ikhp4Ko2UlMA",
        "colab": {
          "base_uri": "https://localhost:8080/",
          "height": 447
        },
        "outputId": "eb1c2213-f1fd-4145-ca5c-a7e4d3413a22"
      },
      "execution_count": null,
      "outputs": [
        {
          "output_type": "execute_result",
          "data": {
            "text/plain": [
              "<Axes: >"
            ]
          },
          "metadata": {},
          "execution_count": 5
        },
        {
          "output_type": "display_data",
          "data": {
            "text/plain": [
              "<Figure size 640x480 with 1 Axes>"
            ],
            "image/png": "[encoded data removed]"
          },
          "metadata": {}
        }
      ]
    },
    {
      "cell_type": "code",
      "source": [
        "dataset.smoker.value_counts().plot(kind='barh')"
      ],
      "metadata": {
        "id": "he-QVIsvUsHs",
        "colab": {
          "base_uri": "https://localhost:8080/",
          "height": 447
        },
        "outputId": "7a9e0c75-a98a-4a06-efbf-3dce44c64203"
      },
      "execution_count": null,
      "outputs": [
        {
          "output_type": "execute_result",
          "data": {
            "text/plain": [
              "<Axes: >"
            ]
          },
          "metadata": {},
          "execution_count": 6
        },
        {
          "output_type": "display_data",
          "data": {
            "text/plain": [
              "<Figure size 640x480 with 1 Axes>"
            ],
            "image/png": "[encoded data removed]"
          },
          "metadata": {}
        }
      ]
    },
    {
      "cell_type": "code",
      "source": [
        "dataset.region.value_counts().plot(kind='barh')"
      ],
      "metadata": {
        "id": "v7Ub_tdSU6Sg",
        "colab": {
          "base_uri": "https://localhost:8080/",
          "height": 447
        },
        "outputId": "38291cb5-04c4-4806-fee9-98b389a8b72d"
      },
      "execution_count": null,
      "outputs": [
        {
          "output_type": "execute_result",
          "data": {
            "text/plain": [
              "<Axes: >"
            ]
          },
          "metadata": {},
          "execution_count": 7
        },
        {
          "output_type": "display_data",
          "data": {
            "text/plain": [
              "<Figure size 640x480 with 1 Axes>"
            ],
            "image/png": "[encoded data removed]"
          },
          "metadata": {}
        }
      ]
    },
    {
      "cell_type": "code",
      "source": [
        "dataset[\"sex\"].replace([\"female\", \"male\"], [0, 1], inplace=True)\n",
        "dataset[\"smoker\"].replace([\"no\", \"yes\"],[0, 1],inplace=True)\n",
        "dataset[\"region\"].replace(['southwest', 'southeast', 'northwest', 'northeast'], [0, 1, 2, 3], inplace=True)"
      ],
      "metadata": {
        "id": "IS81X5O7d_q8"
      },
      "execution_count": null,
      "outputs": []
    },
    {
      "cell_type": "code",
      "source": [
        "train_dataset = dataset.sample(frac=0.8, random_state=0)\n",
        "test_dataset = dataset.drop(train_dataset.index)"
      ],
      "metadata": {
        "id": "gghyz2KUcDUj"
      },
      "execution_count": null,
      "outputs": []
    },
    {
      "cell_type": "code",
      "source": [
        "train_labels = train_dataset.pop('expenses')\n",
        "test_labels = test_dataset.pop('expenses')"
      ],
      "metadata": {
        "id": "BQh7ac35etIo"
      },
      "execution_count": null,
      "outputs": []
    },
    {
      "cell_type": "code",
      "source": [
        "normalizer = layers.experimental.preprocessing.Normalization()\n",
        "normalizer.adapt(np.array(train_dataset))\n",
        "\n",
        "model = keras.Sequential([\n",
        "    normalizer,\n",
        "    layers.Dense(32, activation=\"relu\"),\n",
        "    layers.Dense(16, activation=\"relu\"),\n",
        "    layers.Dense(1)\n",
        "])"
      ],
      "metadata": {
        "id": "KVQ1zKp6dPCW"
      },
      "execution_count": null,
      "outputs": []
    },
    {
      "cell_type": "code",
      "source": [
        "model.compile(\n",
        "    optimizer=tf.optimizers.Adam(learning_rate=0.1),\n",
        "    loss='mae',\n",
        "    metrics=['mae', 'mse']\n",
        ")\n",
        "model.build()\n",
        "model.summary()"
      ],
      "metadata": {
        "id": "LoYurRJXecdf",
        "colab": {
          "base_uri": "https://localhost:8080/"
        },
        "outputId": "30281181-d8b1-4e9f-8053-0abe416220a2"
      },
      "execution_count": null,
      "outputs": [
        {
          "output_type": "stream",
          "name": "stdout",
          "text": [
            "Model: \"sequential\"\n",
            "_________________________________________________________________\n",
            " Layer (type)                Output Shape              Param #   \n",
            "=================================================================\n",
            " normalization (Normalizati  (None, 6)                 13        \n",
            " on)                                                             \n",
            "                                                                 \n",
            " dense (Dense)               (None, 32)                224       \n",
            "                                                                 \n",
            " dense_1 (Dense)             (None, 16)                528       \n",
            "                                                                 \n",
            " dense_2 (Dense)             (None, 1)                 17        \n",
            "                                                                 \n",
            "=================================================================\n",
            "Total params: 782 (3.06 KB)\n",
            "Trainable params: 769 (3.00 KB)\n",
            "Non-trainable params: 13 (56.00 Byte)\n",
            "_________________________________________________________________\n"
          ]
        }
      ]
    },
    {
      "cell_type": "code",
      "source": [
        "history = model.fit(\n",
        "    train_dataset,\n",
        "    train_labels,\n",
        "    epochs=100\n",
        ")"
      ],
      "metadata": {
        "id": "cYr-tAMTef78",
        "colab": {
          "base_uri": "https://localhost:8080/"
        },
        "outputId": "da152c38-1996-420f-ff0b-7a18a692f4f5"
      },
      "execution_count": null,
      "outputs": [
        {
          "output_type": "stream",
          "name": "stdout",
          "text": [
            "Epoch 1/100\n",
            "34/34 [==============================] - 1s 3ms/step - loss: 10357.8584 - mae: 10357.8584 - mse: 233090256.0000\n",
            "Epoch 2/100\n",
            "34/34 [==============================] - 0s 2ms/step - loss: 3832.9473 - mae: 3832.9473 - mse: 49399496.0000\n",
            "Epoch 3/100\n",
            "34/34 [==============================] - 0s 2ms/step - loss: 3059.0833 - mae: 3059.0833 - mse: 36134116.0000\n",
            "Epoch 4/100\n",
            "34/34 [==============================] - 0s 4ms/step - loss: 2928.5364 - mae: 2928.5364 - mse: 31873040.0000\n",
            "Epoch 5/100\n",
            "34/34 [==============================] - 0s 4ms/step - loss: 2724.4346 - mae: 2724.4346 - mse: 28110292.0000\n",
            "Epoch 6/100\n",
            "34/34 [==============================] - 0s 4ms/step - loss: 2556.1387 - mae: 2556.1387 - mse: 25733364.0000\n",
            "Epoch 7/100\n",
            "34/34 [==============================] - 0s 3ms/step - loss: 2385.6655 - mae: 2385.6655 - mse: 24218210.0000\n",
            "Epoch 8/100\n",
            "34/34 [==============================] - 0s 3ms/step - loss: 2259.0532 - mae: 2259.0532 - mse: 23532588.0000\n",
            "Epoch 9/100\n",
            "34/34 [==============================] - 0s 3ms/step - loss: 2269.2236 - mae: 2269.2236 - mse: 25555104.0000\n",
            "Epoch 10/100\n",
            "34/34 [==============================] - 0s 2ms/step - loss: 2144.8542 - mae: 2144.8542 - mse: 23177594.0000\n",
            "Epoch 11/100\n",
            "34/34 [==============================] - 0s 3ms/step - loss: 2091.7517 - mae: 2091.7517 - mse: 22536168.0000\n",
            "Epoch 12/100\n",
            "34/34 [==============================] - 0s 3ms/step - loss: 2076.7563 - mae: 2076.7563 - mse: 22768174.0000\n",
            "Epoch 13/100\n",
            "34/34 [==============================] - 0s 4ms/step - loss: 2050.4202 - mae: 2050.4202 - mse: 22335550.0000\n",
            "Epoch 14/100\n",
            "34/34 [==============================] - 0s 4ms/step - loss: 1985.3768 - mae: 1985.3768 - mse: 22223482.0000\n",
            "Epoch 15/100\n",
            "34/34 [==============================] - 0s 4ms/step - loss: 1987.3275 - mae: 1987.3275 - mse: 22103184.0000\n",
            "Epoch 16/100\n",
            "34/34 [==============================] - 0s 4ms/step - loss: 2046.9037 - mae: 2046.9037 - mse: 22730166.0000\n",
            "Epoch 17/100\n",
            "34/34 [==============================] - 0s 3ms/step - loss: 1974.3512 - mae: 1974.3512 - mse: 22335070.0000\n",
            "Epoch 18/100\n",
            "34/34 [==============================] - 0s 3ms/step - loss: 2066.4529 - mae: 2066.4529 - mse: 22944850.0000\n",
            "Epoch 19/100\n",
            "34/34 [==============================] - 0s 3ms/step - loss: 2011.1434 - mae: 2011.1434 - mse: 22473766.0000\n",
            "Epoch 20/100\n",
            "34/34 [==============================] - 0s 3ms/step - loss: 2126.7878 - mae: 2126.7878 - mse: 23029372.0000\n",
            "Epoch 21/100\n",
            "34/34 [==============================] - 0s 3ms/step - loss: 2106.2368 - mae: 2106.2368 - mse: 22875928.0000\n",
            "Epoch 22/100\n",
            "34/34 [==============================] - 0s 4ms/step - loss: 1994.5269 - mae: 1994.5269 - mse: 22118968.0000\n",
            "Epoch 23/100\n",
            "34/34 [==============================] - 0s 4ms/step - loss: 1998.0575 - mae: 1998.0575 - mse: 22527092.0000\n",
            "Epoch 24/100\n",
            "34/34 [==============================] - 0s 10ms/step - loss: 2032.8678 - mae: 2032.8678 - mse: 22856460.0000\n",
            "Epoch 25/100\n",
            "34/34 [==============================] - 0s 9ms/step - loss: 1953.2673 - mae: 1953.2673 - mse: 22332172.0000\n",
            "Epoch 26/100\n",
            "34/34 [==============================] - 0s 8ms/step - loss: 1949.5989 - mae: 1949.5989 - mse: 22543838.0000\n",
            "Epoch 27/100\n",
            "34/34 [==============================] - 0s 8ms/step - loss: 1998.1960 - mae: 1998.1960 - mse: 22439416.0000\n",
            "Epoch 28/100\n",
            "34/34 [==============================] - 0s 7ms/step - loss: 2052.1348 - mae: 2052.1348 - mse: 22906642.0000\n",
            "Epoch 29/100\n",
            "34/34 [==============================] - 0s 8ms/step - loss: 2067.5962 - mae: 2067.5962 - mse: 22850450.0000\n",
            "Epoch 30/100\n",
            "34/34 [==============================] - 0s 6ms/step - loss: 1993.3302 - mae: 1993.3302 - mse: 22393210.0000\n",
            "Epoch 31/100\n",
            "34/34 [==============================] - 0s 10ms/step - loss: 1984.7970 - mae: 1984.7970 - mse: 22705876.0000\n",
            "Epoch 32/100\n",
            "34/34 [==============================] - 0s 7ms/step - loss: 1920.8168 - mae: 1920.8168 - mse: 22605886.0000\n",
            "Epoch 33/100\n",
            "34/34 [==============================] - 0s 8ms/step - loss: 1953.1014 - mae: 1953.1014 - mse: 22452352.0000\n",
            "Epoch 34/100\n",
            "34/34 [==============================] - 0s 9ms/step - loss: 1944.5646 - mae: 1944.5646 - mse: 22836226.0000\n",
            "Epoch 35/100\n",
            "34/34 [==============================] - 0s 4ms/step - loss: 1961.7109 - mae: 1961.7109 - mse: 22345678.0000\n",
            "Epoch 36/100\n",
            "34/34 [==============================] - 0s 4ms/step - loss: 1979.2786 - mae: 1979.2786 - mse: 22831010.0000\n",
            "Epoch 37/100\n",
            "34/34 [==============================] - 0s 4ms/step - loss: 1957.6997 - mae: 1957.6997 - mse: 22514322.0000\n",
            "Epoch 38/100\n",
            "34/34 [==============================] - 0s 4ms/step - loss: 1944.9296 - mae: 1944.9296 - mse: 22494690.0000\n",
            "Epoch 39/100\n",
            "34/34 [==============================] - 0s 5ms/step - loss: 1989.8047 - mae: 1989.8047 - mse: 22706424.0000\n",
            "Epoch 40/100\n",
            "34/34 [==============================] - 0s 5ms/step - loss: 1951.0233 - mae: 1951.0233 - mse: 22606634.0000\n",
            "Epoch 41/100\n",
            "34/34 [==============================] - 0s 4ms/step - loss: 1974.7273 - mae: 1974.7273 - mse: 22276744.0000\n",
            "Epoch 42/100\n",
            "34/34 [==============================] - 0s 6ms/step - loss: 1926.7185 - mae: 1926.7185 - mse: 22660834.0000\n",
            "Epoch 43/100\n",
            "34/34 [==============================] - 0s 7ms/step - loss: 1933.6337 - mae: 1933.6337 - mse: 22602172.0000\n",
            "Epoch 44/100\n",
            "34/34 [==============================] - 0s 4ms/step - loss: 1933.1864 - mae: 1933.1864 - mse: 22959272.0000\n",
            "Epoch 45/100\n",
            "34/34 [==============================] - 0s 3ms/step - loss: 1899.1920 - mae: 1899.1920 - mse: 22331826.0000\n",
            "Epoch 46/100\n",
            "34/34 [==============================] - 0s 6ms/step - loss: 1996.4528 - mae: 1996.4528 - mse: 22450690.0000\n",
            "Epoch 47/100\n",
            "34/34 [==============================] - 0s 5ms/step - loss: 1947.7761 - mae: 1947.7761 - mse: 22379150.0000\n",
            "Epoch 48/100\n",
            "34/34 [==============================] - 0s 4ms/step - loss: 1930.5347 - mae: 1930.5347 - mse: 22645130.0000\n",
            "Epoch 49/100\n",
            "34/34 [==============================] - 0s 3ms/step - loss: 1988.8909 - mae: 1988.8909 - mse: 22741402.0000\n",
            "Epoch 50/100\n",
            "34/34 [==============================] - 0s 6ms/step - loss: 2013.2214 - mae: 2013.2214 - mse: 22825116.0000\n",
            "Epoch 51/100\n",
            "34/34 [==============================] - 0s 4ms/step - loss: 2030.0696 - mae: 2030.0696 - mse: 22621360.0000\n",
            "Epoch 52/100\n",
            "34/34 [==============================] - 0s 4ms/step - loss: 1947.8484 - mae: 1947.8484 - mse: 22440192.0000\n",
            "Epoch 53/100\n",
            "34/34 [==============================] - 0s 4ms/step - loss: 1949.4230 - mae: 1949.4230 - mse: 22692930.0000\n",
            "Epoch 54/100\n",
            "34/34 [==============================] - 0s 4ms/step - loss: 1985.7595 - mae: 1985.7595 - mse: 23239412.0000\n",
            "Epoch 55/100\n",
            "34/34 [==============================] - 0s 4ms/step - loss: 1940.9469 - mae: 1940.9469 - mse: 22288684.0000\n",
            "Epoch 56/100\n",
            "34/34 [==============================] - 0s 5ms/step - loss: 1991.8383 - mae: 1991.8383 - mse: 22561386.0000\n",
            "Epoch 57/100\n",
            "34/34 [==============================] - 0s 4ms/step - loss: 2097.0806 - mae: 2097.0806 - mse: 23415802.0000\n",
            "Epoch 58/100\n",
            "34/34 [==============================] - 0s 3ms/step - loss: 2046.3328 - mae: 2046.3328 - mse: 23137968.0000\n",
            "Epoch 59/100\n",
            "34/34 [==============================] - 0s 3ms/step - loss: 1998.8951 - mae: 1998.8951 - mse: 22448114.0000\n",
            "Epoch 60/100\n",
            "34/34 [==============================] - 0s 5ms/step - loss: 1908.3044 - mae: 1908.3044 - mse: 22202788.0000\n",
            "Epoch 61/100\n",
            "34/34 [==============================] - 0s 6ms/step - loss: 1945.6274 - mae: 1945.6274 - mse: 22517862.0000\n",
            "Epoch 62/100\n",
            "34/34 [==============================] - 0s 4ms/step - loss: 1921.9551 - mae: 1921.9551 - mse: 22857082.0000\n",
            "Epoch 63/100\n",
            "34/34 [==============================] - 0s 6ms/step - loss: 1952.1617 - mae: 1952.1617 - mse: 22568366.0000\n",
            "Epoch 64/100\n",
            "34/34 [==============================] - 0s 8ms/step - loss: 1972.0946 - mae: 1972.0946 - mse: 22619388.0000\n",
            "Epoch 65/100\n",
            "34/34 [==============================] - 0s 6ms/step - loss: 1986.1035 - mae: 1986.1035 - mse: 22601858.0000\n",
            "Epoch 66/100\n",
            "34/34 [==============================] - 0s 7ms/step - loss: 1958.4253 - mae: 1958.4253 - mse: 22638184.0000\n",
            "Epoch 67/100\n",
            "34/34 [==============================] - 0s 6ms/step - loss: 1958.3907 - mae: 1958.3907 - mse: 22645606.0000\n",
            "Epoch 68/100\n",
            "34/34 [==============================] - 0s 10ms/step - loss: 1904.2245 - mae: 1904.2245 - mse: 22428898.0000\n",
            "Epoch 69/100\n",
            "34/34 [==============================] - 0s 4ms/step - loss: 1935.5244 - mae: 1935.5244 - mse: 22906952.0000\n",
            "Epoch 70/100\n",
            "34/34 [==============================] - 0s 4ms/step - loss: 1899.5807 - mae: 1899.5807 - mse: 22093120.0000\n",
            "Epoch 71/100\n",
            "34/34 [==============================] - 0s 6ms/step - loss: 1951.2684 - mae: 1951.2684 - mse: 22711830.0000\n",
            "Epoch 72/100\n",
            "34/34 [==============================] - 0s 6ms/step - loss: 1902.7583 - mae: 1902.7583 - mse: 22304132.0000\n",
            "Epoch 73/100\n",
            "34/34 [==============================] - 0s 4ms/step - loss: 1944.5029 - mae: 1944.5029 - mse: 22753074.0000\n",
            "Epoch 74/100\n",
            "34/34 [==============================] - 0s 5ms/step - loss: 1896.2660 - mae: 1896.2660 - mse: 22338790.0000\n",
            "Epoch 75/100\n",
            "34/34 [==============================] - 0s 5ms/step - loss: 1924.5563 - mae: 1924.5563 - mse: 23035804.0000\n",
            "Epoch 76/100\n",
            "34/34 [==============================] - 0s 7ms/step - loss: 1999.9200 - mae: 1999.9200 - mse: 22241800.0000\n",
            "Epoch 77/100\n",
            "34/34 [==============================] - 0s 7ms/step - loss: 1944.2888 - mae: 1944.2888 - mse: 22069700.0000\n",
            "Epoch 78/100\n",
            "34/34 [==============================] - 0s 4ms/step - loss: 1945.5856 - mae: 1945.5856 - mse: 22358736.0000\n",
            "Epoch 79/100\n",
            "34/34 [==============================] - 0s 5ms/step - loss: 1918.5273 - mae: 1918.5273 - mse: 22412924.0000\n",
            "Epoch 80/100\n",
            "34/34 [==============================] - 0s 5ms/step - loss: 1931.8567 - mae: 1931.8567 - mse: 22639038.0000\n",
            "Epoch 81/100\n",
            "34/34 [==============================] - 0s 3ms/step - loss: 1976.6851 - mae: 1976.6851 - mse: 22556222.0000\n",
            "Epoch 82/100\n",
            "34/34 [==============================] - 0s 5ms/step - loss: 1927.3704 - mae: 1927.3704 - mse: 22474768.0000\n",
            "Epoch 83/100\n",
            "34/34 [==============================] - 0s 4ms/step - loss: 1940.4542 - mae: 1940.4542 - mse: 22460808.0000\n",
            "Epoch 84/100\n",
            "34/34 [==============================] - 0s 9ms/step - loss: 1966.6855 - mae: 1966.6855 - mse: 22270630.0000\n",
            "Epoch 85/100\n",
            "34/34 [==============================] - 0s 8ms/step - loss: 1930.9873 - mae: 1930.9873 - mse: 22302546.0000\n",
            "Epoch 86/100\n",
            "34/34 [==============================] - 0s 7ms/step - loss: 1910.9333 - mae: 1910.9333 - mse: 22471612.0000\n",
            "Epoch 87/100\n",
            "34/34 [==============================] - 0s 4ms/step - loss: 1894.8695 - mae: 1894.8695 - mse: 22164494.0000\n",
            "Epoch 88/100\n",
            "34/34 [==============================] - 0s 8ms/step - loss: 1869.7039 - mae: 1869.7039 - mse: 22187994.0000\n",
            "Epoch 89/100\n",
            "34/34 [==============================] - 0s 8ms/step - loss: 1896.3380 - mae: 1896.3380 - mse: 22473334.0000\n",
            "Epoch 90/100\n",
            "34/34 [==============================] - 0s 11ms/step - loss: 1871.0519 - mae: 1871.0519 - mse: 22398948.0000\n",
            "Epoch 91/100\n",
            "34/34 [==============================] - 0s 6ms/step - loss: 1898.6838 - mae: 1898.6838 - mse: 22410836.0000\n",
            "Epoch 92/100\n",
            "34/34 [==============================] - 0s 7ms/step - loss: 1929.6779 - mae: 1929.6779 - mse: 22354744.0000\n",
            "Epoch 93/100\n",
            "34/34 [==============================] - 0s 8ms/step - loss: 1888.5790 - mae: 1888.5790 - mse: 22476220.0000\n",
            "Epoch 94/100\n",
            "34/34 [==============================] - 0s 9ms/step - loss: 1948.4799 - mae: 1948.4799 - mse: 22798692.0000\n",
            "Epoch 95/100\n",
            "34/34 [==============================] - 0s 10ms/step - loss: 1912.8428 - mae: 1912.8428 - mse: 22361760.0000\n",
            "Epoch 96/100\n",
            "34/34 [==============================] - 0s 9ms/step - loss: 1916.3922 - mae: 1916.3922 - mse: 22376978.0000\n",
            "Epoch 97/100\n",
            "34/34 [==============================] - 0s 8ms/step - loss: 1891.2184 - mae: 1891.2184 - mse: 22079766.0000\n",
            "Epoch 98/100\n",
            "34/34 [==============================] - 0s 8ms/step - loss: 1923.5929 - mae: 1923.5929 - mse: 22857450.0000\n",
            "Epoch 99/100\n",
            "34/34 [==============================] - 0s 10ms/step - loss: 1942.0491 - mae: 1942.0491 - mse: 22532632.0000\n",
            "Epoch 100/100\n",
            "34/34 [==============================] - 0s 6ms/step - loss: 1889.2916 - mae: 1889.2916 - mse: 22425140.0000\n"
          ]
        }
      ]
    },
    {
      "cell_type": "code",
      "execution_count": null,
      "metadata": {
        "id": "Xe7RXH3N3CWU",
        "colab": {
          "base_uri": "https://localhost:8080/",
          "height": 524
        },
        "outputId": "c3f8f703-8638-4c0a-aaca-ab3c69b949e1"
      },
      "outputs": [
        {
          "output_type": "stream",
          "name": "stdout",
          "text": [
            "9/9 - 0s - loss: 2624.5576 - mae: 2624.5576 - mse: 33949072.0000 - 460ms/epoch - 51ms/step\n",
            "Testing set Mean Abs Error: 2624.56 expenses\n",
            "You passed the challenge. Great job!\n",
            "9/9 [==============================] - 0s 4ms/step\n"
          ]
        },
        {
          "output_type": "display_data",
          "data": {
            "text/plain": [
              "<Figure size 640x480 with 1 Axes>"
            ],
            "image/png": "[encoded data removed]"
          },
          "metadata": {}
        }
      ],
      "source": [
        "# RUN THIS CELL TO TEST YOUR MODEL. DO NOT MODIFY CONTENTS.\n",
        "# Test model by checking how well the model generalizes using the test set.\n",
        "loss, mae, mse = model.evaluate(test_dataset, test_labels, verbose=2)\n",
        "\n",
        "print(\"Testing set Mean Abs Error: {:5.2f} expenses\".format(mae))\n",
        "\n",
        "if mae < 3500:\n",
        "  print(\"You passed the challenge. Great job!\")\n",
        "else:\n",
        "  print(\"The Mean Abs Error must be less than 3500. Keep trying.\")\n",
        "\n",
        "# Plot predictions.\n",
        "test_predictions = model.predict(test_dataset).flatten()\n",
        "\n",
        "a = plt.axes(aspect='equal')\n",
        "plt.scatter(test_labels, test_predictions)\n",
        "plt.xlabel('True values (expenses)')\n",
        "plt.ylabel('Predictions (expenses)')\n",
        "lims = [0, 50000]\n",
        "plt.xlim(lims)\n",
        "plt.ylim(lims)\n",
        "_ = plt.plot(lims,lims)\n"
      ]
    }
  ],
  "metadata": {
    "colab": {
      "provenance": [],
      "include_colab_link": true
    },
    "kernelspec": {
      "display_name": "Python 3",
      "name": "python3"
    }
  },
  "nbformat": 4,
  "nbformat_minor": 0
}